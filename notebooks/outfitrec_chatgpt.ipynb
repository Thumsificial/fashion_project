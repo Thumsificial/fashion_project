{
 "cells": [
  {
   "cell_type": "markdown",
   "metadata": {},
   "source": [
    "# Outfit Recommender"
   ]
  },
  {
   "cell_type": "markdown",
   "metadata": {},
   "source": [
    "Creating an outfit recommender based on the chatgpt api."
   ]
  },
  {
   "cell_type": "markdown",
   "metadata": {},
   "source": [
    "Start by installing openai"
   ]
  },
  {
   "cell_type": "code",
   "execution_count": 13,
   "metadata": {},
   "outputs": [
    {
     "name": "stdout",
     "output_type": "stream",
     "text": [
      "Requirement already satisfied: openai in c:\\users\\thomas\\anaconda3\\lib\\site-packages (0.27.3)\n",
      "Requirement already satisfied: requests>=2.20 in c:\\users\\thomas\\anaconda3\\lib\\site-packages (from openai) (2.28.2)\n",
      "Requirement already satisfied: typing-extensions; python_version < \"3.8\" in c:\\users\\thomas\\anaconda3\\lib\\site-packages (from openai) (4.5.0)\n",
      "Requirement already satisfied: aiohttp in c:\\users\\thomas\\anaconda3\\lib\\site-packages (from openai) (3.8.4)\n",
      "Requirement already satisfied: tqdm in c:\\users\\thomas\\anaconda3\\lib\\site-packages (from openai) (4.42.1)\n",
      "Requirement already satisfied: urllib3<1.27,>=1.21.1 in c:\\users\\thomas\\anaconda3\\lib\\site-packages (from requests>=2.20->openai) (1.25.8)\n",
      "Requirement already satisfied: idna<4,>=2.5 in c:\\users\\thomas\\anaconda3\\lib\\site-packages (from requests>=2.20->openai) (2.8)\n",
      "Requirement already satisfied: certifi>=2017.4.17 in c:\\users\\thomas\\anaconda3\\lib\\site-packages (from requests>=2.20->openai) (2019.11.28)\n",
      "Requirement already satisfied: charset-normalizer<4,>=2 in c:\\users\\thomas\\anaconda3\\lib\\site-packages (from requests>=2.20->openai) (3.0.1)\n",
      "Requirement already satisfied: multidict<7.0,>=4.5 in c:\\users\\thomas\\anaconda3\\lib\\site-packages (from aiohttp->openai) (6.0.4)\n",
      "Requirement already satisfied: attrs>=17.3.0 in c:\\users\\thomas\\anaconda3\\lib\\site-packages (from aiohttp->openai) (19.3.0)\n",
      "Requirement already satisfied: aiosignal>=1.1.2 in c:\\users\\thomas\\anaconda3\\lib\\site-packages (from aiohttp->openai) (1.3.1)\n",
      "Requirement already satisfied: asynctest==0.13.0; python_version < \"3.8\" in c:\\users\\thomas\\anaconda3\\lib\\site-packages (from aiohttp->openai) (0.13.0)\n",
      "Requirement already satisfied: yarl<2.0,>=1.0 in c:\\users\\thomas\\anaconda3\\lib\\site-packages (from aiohttp->openai) (1.8.2)\n",
      "Requirement already satisfied: frozenlist>=1.1.1 in c:\\users\\thomas\\anaconda3\\lib\\site-packages (from aiohttp->openai) (1.3.3)\n",
      "Requirement already satisfied: async-timeout<5.0,>=4.0.0a3 in c:\\users\\thomas\\anaconda3\\lib\\site-packages (from aiohttp->openai) (4.0.2)\n",
      "Note: you may need to restart the kernel to use updated packages.\n"
     ]
    }
   ],
   "source": [
    "pip install openai"
   ]
  },
  {
   "cell_type": "code",
   "execution_count": 14,
   "metadata": {},
   "outputs": [],
   "source": [
    "import os\n",
    "import openai"
   ]
  },
  {
   "cell_type": "code",
   "execution_count": 15,
   "metadata": {},
   "outputs": [],
   "source": [
    "#! pip install python-dotenv\n",
    "import dotenv"
   ]
  },
  {
   "cell_type": "code",
   "execution_count": 16,
   "metadata": {},
   "outputs": [
    {
     "data": {
      "text/plain": [
       "True"
      ]
     },
     "execution_count": 16,
     "metadata": {},
     "output_type": "execute_result"
    }
   ],
   "source": [
    "dotenv.load_dotenv()"
   ]
  },
  {
   "cell_type": "code",
   "execution_count": 17,
   "metadata": {},
   "outputs": [],
   "source": [
    "openai.api_key = os.getenv(\"OPENAI_API_KEY\")"
   ]
  },
  {
   "cell_type": "markdown",
   "metadata": {},
   "source": [
    "And now I'm in"
   ]
  },
  {
   "cell_type": "code",
   "execution_count": 18,
   "metadata": {},
   "outputs": [],
   "source": [
    "model=\"gpt-3.5-turbo\""
   ]
  },
  {
   "cell_type": "code",
   "execution_count": 19,
   "metadata": {},
   "outputs": [],
   "source": [
    "messages=[\n",
    "        {\"role\": \"system\", \"content\": \"You are a fashion expert.Respond to the following message by recommending three outfits and corresponding jewelry based on the information in the message.\"},\n",
    "        {\"role\": \"user\", \"content\": \"I am a dark skinned boy in my twenties looking for a minimal style with a statement piece in a bright color\"}\n",
    "    ]"
   ]
  },
  {
   "cell_type": "code",
   "execution_count": 20,
   "metadata": {},
   "outputs": [],
   "source": [
    "response = openai.ChatCompletion.create(\n",
    "  model=model,\n",
    "  messages=messages\n",
    ")"
   ]
  },
  {
   "cell_type": "code",
   "execution_count": 21,
   "metadata": {},
   "outputs": [
    {
     "data": {
      "text/plain": [
       "'Great, I have three outfit suggestions for you to consider:\\n\\n1. Outfit: Pair a classic, tailored black trouser with a white t-shirt that has a simple graphic, like a black or grey design. Add a pop of color with a bright yellow bomber jacket. \\nJewelry: a statement necklace featuring a bright orange or red pendant on a simple gold chain.\\n\\n2. Outfit: Dress up a casual denim jacket by pairing it with well-tailored chinos in a neutral tone, like beige or khaki. Opt for a black turtleneck underneath for a sleek look with a pop of color in bright blue sneakers or loafers. \\nJewelry: choose a statement watch with a bright blue or green watch face.\\n\\n3. Outfit: Keep it simple and classic with a navy blue sweater and black jeans. Add a pop of color with a bright red or orange wool coat on top. For shoes, choose sleek black boots that match your jeans. \\nJewelry: a minimalistic ring in bright turquoise or emerald green.'"
      ]
     },
     "execution_count": 21,
     "metadata": {},
     "output_type": "execute_result"
    }
   ],
   "source": [
    "response['choices'][0]['message']['content']"
   ]
  },
  {
   "cell_type": "code",
   "execution_count": null,
   "metadata": {},
   "outputs": [],
   "source": []
  }
 ],
 "metadata": {
  "kernelspec": {
   "display_name": "Python 3",
   "language": "python",
   "name": "python3"
  },
  "language_info": {
   "codemirror_mode": {
    "name": "ipython",
    "version": 3
   },
   "file_extension": ".py",
   "mimetype": "text/x-python",
   "name": "python",
   "nbconvert_exporter": "python",
   "pygments_lexer": "ipython3",
   "version": "3.7.6"
  }
 },
 "nbformat": 4,
 "nbformat_minor": 4
}
